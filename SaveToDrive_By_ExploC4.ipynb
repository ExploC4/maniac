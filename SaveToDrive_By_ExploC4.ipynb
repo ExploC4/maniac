{
  "nbformat": 4,
  "nbformat_minor": 0,
  "metadata": {
    "colab": {
      "name": "SaveToDrive By ExploC4.ipynb",
      "provenance": [],
      "collapsed_sections": [],
      "mount_file_id": "1ftfIIEK6YIzqf8UX1T9BKrVgetSMhNCG",
      "authorship_tag": "ABX9TyMtXN4B9NGGaEKhlOd/Yj11",
      "include_colab_link": true
    },
    "kernelspec": {
      "name": "python3",
      "display_name": "Python 3"
    }
  },
  "cells": [
    {
      "cell_type": "markdown",
      "metadata": {
        "id": "view-in-github",
        "colab_type": "text"
      },
      "source": [
        "<a href=\"https://colab.research.google.com/github/ExploC4/maniac/blob/master/SaveToDrive_By_ExploC4.ipynb\" target=\"_parent\"><img src=\"https://colab.research.google.com/assets/colab-badge.svg\" alt=\"Open In Colab\"/></a>"
      ]
    },
    {
      "cell_type": "code",
      "metadata": {
        "id": "KONuW1L5CGcC"
      },
      "source": [
        "import os\n",
        "os.chdir(\"/content/drive/Shared drives/ExploC4\")"
      ],
      "execution_count": 6,
      "outputs": []
    },
    {
      "cell_type": "markdown",
      "metadata": {
        "id": "JlQZkRP7DJtL"
      },
      "source": [
        "Get Files From URL :"
      ]
    },
    {
      "cell_type": "code",
      "metadata": {
        "id": "7DUom3hkCiQf"
      },
      "source": [
        "!wget -c \"download-link\" --no-check-certificate"
      ],
      "execution_count": null,
      "outputs": []
    },
    {
      "cell_type": "markdown",
      "metadata": {
        "id": "r3tTZEpzDOXB"
      },
      "source": [
        "Get Files From Google Drive :\n"
      ]
    },
    {
      "cell_type": "code",
      "metadata": {
        "id": "N6ZnFgOtDTi6"
      },
      "source": [
        "!wget -c \"download_link\" -O file.extention --no-check-certificate"
      ],
      "execution_count": null,
      "outputs": []
    },
    {
      "cell_type": "markdown",
      "metadata": {
        "id": "vYT3seDZDmLr"
      },
      "source": [
        "Example : !wget -c \"https://doc-3g-00-drive-data-export.googleusercontent.com/download/2o4fh27/sqq3q/150000/efd098b5xVi?authuser=01vi&user=11el4\" -O colab.zip --no-check-certificate"
      ]
    }
  ]
}